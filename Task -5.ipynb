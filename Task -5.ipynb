{
 "cells": [
  {
   "cell_type": "code",
   "execution_count": 1,
   "metadata": {},
   "outputs": [
    {
     "name": "stdout",
     "output_type": "stream",
     "text": [
      "Enter first number: 10\n",
      "Enter second number: 4\n",
      "Addition is:  14\n"
     ]
    }
   ],
   "source": [
    "# Addition of two numbers\n",
    "def add(num1, num2):\n",
    "    return num1+num2\n",
    "n1 = int(input(\"Enter first number: \"))\n",
    "n2 = int(input(\"Enter second number: \"))\n",
    "print(\"Addition is: \",add(n1,n2))"
   ]
  },
  {
   "cell_type": "code",
   "execution_count": 2,
   "metadata": {},
   "outputs": [
    {
     "name": "stdout",
     "output_type": "stream",
     "text": [
      "Enter first number: 6\n",
      "Enter second number: 1\n",
      "Subtraction is:  5\n"
     ]
    }
   ],
   "source": [
    "# Subtraction of two numbers\n",
    "def sub(num1, num2):\n",
    "    return num1-num2\n",
    "n1 = int(input(\"Enter first number: \"))\n",
    "n2 = int(input(\"Enter second number: \"))\n",
    "print(\"Subtraction is: \",sub(n1,n2))"
   ]
  },
  {
   "cell_type": "code",
   "execution_count": 3,
   "metadata": {},
   "outputs": [
    {
     "name": "stdout",
     "output_type": "stream",
     "text": [
      "Enter first number: 8\n",
      "Enter second number: 2\n",
      "Division is:  4.0\n"
     ]
    }
   ],
   "source": [
    "# Division of two numbers\n",
    "def div(num1, num2):\n",
    "    return num1/num2\n",
    "n1 = int(input(\"Enter first number: \"))\n",
    "n2 = int(input(\"Enter second number: \"))\n",
    "print(\"Division is: \",div(n1,n2))"
   ]
  },
  {
   "cell_type": "code",
   "execution_count": 4,
   "metadata": {},
   "outputs": [
    {
     "name": "stdout",
     "output_type": "stream",
     "text": [
      "Enter first number: 12\n",
      "Enter second number: 14\n",
      "Multiplication is:  168\n"
     ]
    }
   ],
   "source": [
    "# Multiplication of two numbers\n",
    "def multi(num1, num2):\n",
    "    return num1*num2\n",
    "n1 = int(input(\"Enter first number: \"))\n",
    "n2 = int(input(\"Enter second number: \"))\n",
    "print(\"Multiplication is: \",multi(n1,n2))"
   ]
  },
  {
   "cell_type": "code",
   "execution_count": 5,
   "metadata": {},
   "outputs": [
    {
     "name": "stdout",
     "output_type": "stream",
     "text": [
      "sam  has body temperature of  101  degrees.\n",
      "rakul  has body temperature of  98  degrees.\n",
      "ape  has body temperature of  98  degrees.\n"
     ]
    }
   ],
   "source": [
    "def covid(patient_name, body_temp = 98):\n",
    "    print(patient_name,\" has body temperature of \",body_temp,\" degrees.\")\n",
    "covid(\"sam\",101)\n",
    "covid(\"rakul\")\n",
    "covid(\"ape\",98)"
   ]
  },
  {
   "cell_type": "code",
   "execution_count": null,
   "metadata": {},
   "outputs": [],
   "source": []
  }
 ],
 "metadata": {
  "kernelspec": {
   "display_name": "Python 3 (Anaconda 2020)",
   "language": "python",
   "name": "anaconda2020"
  },
  "language_info": {
   "codemirror_mode": {
    "name": "ipython",
    "version": 3
   },
   "file_extension": ".py",
   "mimetype": "text/x-python",
   "name": "python",
   "nbconvert_exporter": "python",
   "pygments_lexer": "ipython3",
   "version": "3.7.8"
  }
 },
 "nbformat": 4,
 "nbformat_minor": 4
}
