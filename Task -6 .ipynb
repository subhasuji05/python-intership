{
 "cells": [
  {
   "cell_type": "code",
   "execution_count": 1,
   "metadata": {},
   "outputs": [
    {
     "name": "stdout",
     "output_type": "stream",
     "text": [
      "The original list is:  [5, 6, 7, 9, 3]\n",
      "The list after adding 2 to each of its value is:  [7, 8, 9, 11, 5]\n"
     ]
    }
   ],
   "source": [
    "l = [5,6,7,9,3]\n",
    "print(\"The original list is: \",l)\n",
    "for i in range(len(l)):\n",
    "    l[i]=l[i]+2\n",
    "print(\"The list after adding 2 to each of its value is: \",l)"
   ]
  },
  {
   "cell_type": "code",
   "execution_count": 2,
   "metadata": {},
   "outputs": [
    {
     "name": "stdout",
     "output_type": "stream",
     "text": [
      "54321\n",
      "\n",
      "4321\n",
      "\n",
      "321\n",
      "\n",
      "21\n",
      "\n",
      "1\n",
      "\n"
     ]
    }
   ],
   "source": [
    "i = j = 5\n",
    "while i>=1:\n",
    "    j=i\n",
    "    while j>=1:\n",
    "        print(j, end=\"\")\n",
    "        j = j-1\n",
    "    print('\\n')\n",
    "    i = i-1"
   ]
  },
  {
   "cell_type": "code",
   "execution_count": 3,
   "metadata": {},
   "outputs": [
    {
     "name": "stdout",
     "output_type": "stream",
     "text": [
      "Enter the number of terms to be displayed(min 3):5\n",
      "0 1 1 2 3 "
     ]
    }
   ],
   "source": [
    "n= int(input(\"Enter the number of terms to be displayed(min 3):\"))\n",
    "a,b = 0,1\n",
    "print(a,end=\" \")\n",
    "print(b,end=\" \") \n",
    "for i in range(n-2):\n",
    "    c= a+b\n",
    "    print(c,end=\" \")\n",
    "    a=b\n",
    "    b=c"
   ]
  },
  {
   "cell_type": "code",
   "execution_count": 5,
   "metadata": {},
   "outputs": [
    {
     "name": "stdout",
     "output_type": "stream",
     "text": [
      "Enter the number: 144\n",
      "It is not an armstrong number\n"
     ]
    }
   ],
   "source": [
    "num = input(\"Enter the number: \")\n",
    "j = i = len(num)\n",
    "num1 = int(num)\n",
    "num2 =num1\n",
    "num3 = 0\n",
    "while(i>=1):\n",
    "    temp = int(num1/(10**(i-1)))\n",
    "    num3 = num3 + temp**j\n",
    "    num1 = num1%(10**(i-1))\n",
    "    i = i-1\n",
    "if num2 == num3:\n",
    "    print(\"It is an armstrong number\")\n",
    "else:\n",
    "    print(\"It is not an armstrong number\")"
   ]
  },
  {
   "cell_type": "code",
   "execution_count": 6,
   "metadata": {},
   "outputs": [
    {
     "name": "stdout",
     "output_type": "stream",
     "text": [
      "Multiplication table of 9\n",
      "9 times  1  is  9\n",
      "9 times  2  is  18\n",
      "9 times  3  is  27\n",
      "9 times  4  is  36\n",
      "9 times  5  is  45\n",
      "9 times  6  is  54\n",
      "9 times  7  is  63\n",
      "9 times  8  is  72\n",
      "9 times  9  is  81\n",
      "9 times  10  is  90\n"
     ]
    }
   ],
   "source": [
    "print(\"Multiplication table of 9\")\n",
    "for i in range(10):\n",
    "    print(\"9 times \",i+1,\" is \",9*(i+1))"
   ]
  },
  {
   "cell_type": "code",
   "execution_count": 7,
   "metadata": {},
   "outputs": [
    {
     "name": "stdout",
     "output_type": "stream",
     "text": [
      "Enter the number:54\n",
      "It is a positive number.\n"
     ]
    }
   ],
   "source": [
    "num = int(input(\"Enter the number:\"))\n",
    "if num <0:\n",
    "    print(\"It is a negative number.\")\n",
    "elif num>0:\n",
    "    print(\"It is a positive number.\")\n",
    "else:\n",
    "    print(\"It is a neutral number i.e. Zero\")"
   ]
  },
  {
   "cell_type": "code",
   "execution_count": 8,
   "metadata": {},
   "outputs": [
    {
     "name": "stdout",
     "output_type": "stream",
     "text": [
      "Enter the number of days:1236\n",
      "Age is  3  years  4  months and  21  days.\n"
     ]
    }
   ],
   "source": [
    "day = int(input(\"Enter the number of days:\"))\n",
    "year = int(day/365)\n",
    "day = day%365\n",
    "month = int(day/30)\n",
    "day = day%30\n",
    "print(\"Age is \",year,\" years \",month,\" months and \", day,\" days.\")"
   ]
  },
  {
   "cell_type": "code",
   "execution_count": 9,
   "metadata": {},
   "outputs": [
    {
     "name": "stdout",
     "output_type": "stream",
     "text": [
      "Choose the trigonometric function you want to use\n",
      "1.sin\n",
      "2.cos\n",
      "3.tan\n",
      "4.asin\n",
      "5.acos\n",
      "6.atan\n",
      "1\n",
      "Enter the angle in radians: 0.785365\n",
      "Result is  0.707083330734487\n"
     ]
    }
   ],
   "source": [
    "import math as m\n",
    "print(\"Choose the trigonometric function you want to use\")\n",
    "print(\"1.sin\")\n",
    "print(\"2.cos\")\n",
    "print(\"3.tan\")\n",
    "print(\"4.asin\")\n",
    "print(\"5.acos\")\n",
    "print(\"6.atan\")\n",
    "ch = int(input())\n",
    "def trigo(ch,x):\n",
    "    if(ch==1):\n",
    "        return m.sin(x)\n",
    "    if(ch==2):\n",
    "        return m.cos(x) \n",
    "    if(ch==3):\n",
    "        return m.tan(x) \n",
    "    if(ch==4):\n",
    "        return m.asin(x)\n",
    "    if(ch==5):\n",
    "        return m.acos(x) \n",
    "    if(ch==6):\n",
    "        return m.atan(x)\n",
    "   \n",
    "x = float(input(\"Enter the angle in radians: \"))\n",
    "print(\"Result is \",trigo(ch,x))"
   ]
  },
  {
   "cell_type": "code",
   "execution_count": 10,
   "metadata": {},
   "outputs": [
    {
     "name": "stdout",
     "output_type": "stream",
     "text": [
      "Enter first number: 114\n",
      "Enter second number: 201\n",
      "Choose the operator:\n",
      "+\t-\t/\t*\n",
      "-\n",
      "Result is:  -87\n"
     ]
    }
   ],
   "source": [
    "num1 = int(input(\"Enter first number: \"))\n",
    "num2 = int(input(\"Enter second number: \"))\n",
    "print(\"Choose the operator:\")\n",
    "print(\"+\\t-\\t/\\t*\")\n",
    "op= input()\n",
    "if op == '+':\n",
    "    print(\"Result is: \", num1+num2)\n",
    "elif op == '-':\n",
    "    print(\"Result is: \", num1-num2)\n",
    "elif op == '/':\n",
    "    print(\"Result is: \", num1/num2)\n",
    "elif op == '*':\n",
    "    print(\"Result is: \", num1*num2)"
   ]
  },
  {
   "cell_type": "code",
   "execution_count": null,
   "metadata": {},
   "outputs": [],
   "source": []
  }
 ],
 "metadata": {
  "kernelspec": {
   "display_name": "Python 3 (Anaconda 2020)",
   "language": "python",
   "name": "anaconda2020"
  },
  "language_info": {
   "codemirror_mode": {
    "name": "ipython",
    "version": 3
   },
   "file_extension": ".py",
   "mimetype": "text/x-python",
   "name": "python",
   "nbconvert_exporter": "python",
   "pygments_lexer": "ipython3",
   "version": "3.7.8"
  }
 },
 "nbformat": 4,
 "nbformat_minor": 4
}
