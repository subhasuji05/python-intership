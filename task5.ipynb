Create a function getting two integer inputs fromm user and print the addition, substraction, division and multiplication.
In [5]:
def Calculator(input1, input2):
    print('Addition of two numbers is', input1 + input2)
    print('Subtraction of two numbers is', input1 - input2)
    print('Division of two numbers is', input1 / input2)
    print('Multiplication of two numbers is', input1 * input2)
In [6]:
no1 = int(input('Enter first number: '))
no2 = int(input('Enter second number: '))
print()
Calculator(no1, no2)
Enter first number: 100
Enter second number: 10

Addition of two numbers is 110
Subtraction of two numbers is 90
Division of two numbers is 10.0
Multiplication of two numbers is 1000
Create a function covid() and it should accept name, and body temperature by default the body temperature should be 98 degree
In [7]:
def covid(name, temp = 98):
    print('{0} temperature is {1} degree fahrenheit'.format(name, temp))
In [10]:
name = input('Enter patient name: ')
try:
    temp = int(input('Enter temperature (in fahrenheit): '))
except:
    temp = 98
covid(name, temp)
Enter patient name: sahil
Enter temperature (in fahrenheit): 
sahil temperature is 98 degree fahrenheit
In [ ]:
